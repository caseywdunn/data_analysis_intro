{
 "cells": [
  {
   "cell_type": "markdown",
   "metadata": {},
   "source": [
    "# Iris\n",
    "\n",
    "The Iris dataset is a classic dataset for classification. It contains 150 samples of iris flowers, each with 4 features: sepal length, sepal width, petal length, and petal width. The goal is to classify the flowers into one of three species: setosa, versicolor, or virginica. Fisher (1936) used this dataset to develop a linear discriminant model, but it was originally collected by Edgar Anderson.\n",
    "\n",
    "## Preliminaries\n",
    "\n",
    "Take care of the following steps if you have not already. These just need to be done once.\n",
    "\n",
    "Install the Jupyter and GitHub Copilot extensions for VS Code.\n",
    "\n",
    "Create and activate a virtual environment with packages for data analysis\n",
    "\n",
    "\tconda create -n science python=3.12 pandas numpy pandas matplotlib seaborn scikit-learn\n",
    "\n",
    "## Getting started\n",
    "\n",
    "Now copy this notebook to a new file:\n",
    "\n",
    "    cd analyses\n",
    "\tcp iris.ipynb iris_working.ipynb\n",
    "\n",
    "Open your new iris_working.ipynb file open in VS Code. \n",
    "\n",
    "In VS Code, Select Kernel in the upper right, then Python Environments, and then the environment you just created. Click Run all. It will load the data and libraries. If that works, you are ready to start building the analysis."
   ]
  },
  {
   "cell_type": "code",
   "execution_count": 1,
   "metadata": {},
   "outputs": [],
   "source": [
    "import pandas as pd\n",
    "import numpy as np\n",
    "import matplotlib.pyplot as plt\n",
    "import seaborn as sns"
   ]
  },
  {
   "cell_type": "code",
   "execution_count": 2,
   "metadata": {},
   "outputs": [],
   "source": [
    "iris = pd.read_csv('../data/iris.csv')"
   ]
  }
 ],
 "metadata": {
  "kernelspec": {
   "display_name": "bio",
   "language": "python",
   "name": "python3"
  },
  "language_info": {
   "codemirror_mode": {
    "name": "ipython",
    "version": 3
   },
   "file_extension": ".py",
   "mimetype": "text/x-python",
   "name": "python",
   "nbconvert_exporter": "python",
   "pygments_lexer": "ipython3",
   "version": "3.8.18"
  }
 },
 "nbformat": 4,
 "nbformat_minor": 2
}
